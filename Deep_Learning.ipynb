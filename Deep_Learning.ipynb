{
 "cells": [
  {
   "attachments": {},
   "cell_type": "markdown",
   "metadata": {},
   "source": [
    "### Deep Learning Algorithm Engineering in Autonomous Driving\n",
    "\n",
    "Develop and optimize target detection and tracking/semantic segmentation/key point detection based on deep learning.\n",
    "\n",
    "Optimize pre-processing and post-processing algorithms according to the needs of embedded hardware.\n",
    "\n",
    "Communicate with the model deployment team and software team to assist in the transformation and deployment of models.\n",
    "\n",
    "Collaborate with the big data team to clean up and mine corner cases and improve the model."
   ]
  },
  {
   "attachments": {},
   "cell_type": "markdown",
   "metadata": {},
   "source": [
    "#### Deep understanding of machine learning and deep learning."
   ]
  },
  {
   "cell_type": "code",
   "execution_count": 43,
   "metadata": {},
   "outputs": [
    {
     "data": {
      "image/png": "[encoded data removed]",
      "text/plain": [
       "<Figure size 576x432 with 1 Axes>"
      ]
     },
     "metadata": {
      "needs_background": "light"
     },
     "output_type": "display_data"
    }
   ],
   "source": [
    "import numpy as np\n",
    "import matplotlib.pyplot as plt\n",
    "\n",
    "# 定义两个线性函数\n",
    "def f1(x):\n",
    "    return 0.05*x\n",
    "\n",
    "def f2(x):\n",
    "    return 3*x - 23.6\n",
    "\n",
    "# 生成 x 值范围\n",
    "x1 = np.linspace(0, 8, 100)\n",
    "x2 = np.linspace(8, 10, 100)\n",
    "\n",
    "# 计算两个函数的 y 值\n",
    "y1 = f1(x1)\n",
    "y2 = f2(x2)\n",
    "\n",
    "x_intersection = 8\n",
    "y_intersection = f1(x_intersection)\n",
    "\n",
    "# 绘制图形\n",
    "plt.figure(figsize=(8, 6))\n",
    "plt.plot(x1, y1)\n",
    "plt.plot(x2, y2)\n",
    "# plt.title('Plot of Two Linear Functions')\n",
    "\n",
    "# 突出显示交点\n",
    "plt.plot(x_intersection, y_intersection, 'ro', markersize=10)  # 'ro'表示红色圆点\n",
    "\n",
    "plt.grid(False)\n",
    "\n",
    "plt.axhline(0, color=\"Black\",linewidth=0.7)\n",
    "plt.axvline(0, color=\"Black\",linewidth=0.7)\n",
    "\n",
    "\n",
    "\n",
    "plt.show()"
   ]
  },
  {
   "cell_type": "code",
   "execution_count": null,
   "metadata": {},
   "outputs": [],
   "source": [
    "起源"
   ]
  },
  {
   "cell_type": "code",
   "execution_count": 44,
   "metadata": {},
   "outputs": [],
   "source": [
    "import torch"
   ]
  },
  {
   "cell_type": "code",
   "execution_count": 45,
   "metadata": {},
   "outputs": [
    {
     "name": "stdout",
     "output_type": "stream",
     "text": [
      "tensor([[0., 0., 0.],\n",
      "        [0., 0., 0.],\n",
      "        [0., 0., 0.],\n",
      "        [0., 0., 0.],\n",
      "        [0., 0., 0.]])\n"
     ]
    }
   ],
   "source": [
    "x = torch.empty(5, 3)\n",
    "print(x)"
   ]
  },
  {
   "cell_type": "code",
   "execution_count": 47,
   "metadata": {},
   "outputs": [],
   "source": [
    "# 以下代码只有在PyTorch GPU版本上才会执行\n",
    "if torch.cuda.is_available():\n",
    "    device = torch.device(\"cuda\")          # GPU\n",
    "    y = torch.ones_like(x, device=device)  # 直接创建一个在GPU上的Tensor\n",
    "    x = x.to(device)                       # 等价于 .to(\"cuda\")\n",
    "    z = x + y\n",
    "    print(z)\n",
    "    print(z.to(\"cpu\", torch.double))       # to()还可以同时更改数据类型\n"
   ]
  }
 ],
 "metadata": {
  "kernelspec": {
   "display_name": "Python 3",
   "language": "python",
   "name": "python3"
  },
  "language_info": {
   "codemirror_mode": {
    "name": "ipython",
    "version": 3
   },
   "file_extension": ".py",
   "mimetype": "text/x-python",
   "name": "python",
   "nbconvert_exporter": "python",
   "pygments_lexer": "ipython3",
   "version": "3.11.1"
  },
  "orig_nbformat": 4
 },
 "nbformat": 4,
 "nbformat_minor": 2
}
